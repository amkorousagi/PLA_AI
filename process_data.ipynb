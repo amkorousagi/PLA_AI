{
  "nbformat": 4,
  "nbformat_minor": 0,
  "metadata": {
    "colab": {
      "name": "process_data.ipynb",
      "provenance": [],
      "collapsed_sections": [],
      "authorship_tag": "ABX9TyNfyRuXUud9e3JL5z2yuBsa",
      "include_colab_link": true
    },
    "kernelspec": {
      "name": "python3",
      "display_name": "Python 3"
    },
    "language_info": {
      "name": "python"
    }
  },
  "cells": [
    {
      "cell_type": "markdown",
      "metadata": {
        "id": "view-in-github",
        "colab_type": "text"
      },
      "source": [
        "<a href=\"https://colab.research.google.com/github/amkorousagi/PLA_AI/blob/main/process_data.ipynb\" target=\"_parent\"><img src=\"https://colab.research.google.com/assets/colab-badge.svg\" alt=\"Open In Colab\"/></a>"
      ]
    },
    {
      "cell_type": "code",
      "source": [
        "!pip install imblearn"
      ],
      "metadata": {
        "colab": {
          "base_uri": "https://localhost:8080/"
        },
        "id": "W4lvXlN9-Ra_",
        "outputId": "a2c712c6-8315-457e-faa6-939e202ee7de"
      },
      "execution_count": null,
      "outputs": [
        {
          "output_type": "stream",
          "name": "stdout",
          "text": [
            "Looking in indexes: https://pypi.org/simple, https://us-python.pkg.dev/colab-wheels/public/simple/\n",
            "Requirement already satisfied: imblearn in /usr/local/lib/python3.7/dist-packages (0.0)\n",
            "Requirement already satisfied: imbalanced-learn in /usr/local/lib/python3.7/dist-packages (from imblearn) (0.8.1)\n",
            "Requirement already satisfied: scipy>=0.19.1 in /usr/local/lib/python3.7/dist-packages (from imbalanced-learn->imblearn) (1.7.3)\n",
            "Requirement already satisfied: scikit-learn>=0.24 in /usr/local/lib/python3.7/dist-packages (from imbalanced-learn->imblearn) (1.0.2)\n",
            "Requirement already satisfied: numpy>=1.13.3 in /usr/local/lib/python3.7/dist-packages (from imbalanced-learn->imblearn) (1.21.6)\n",
            "Requirement already satisfied: joblib>=0.11 in /usr/local/lib/python3.7/dist-packages (from imbalanced-learn->imblearn) (1.1.0)\n",
            "Requirement already satisfied: threadpoolctl>=2.0.0 in /usr/local/lib/python3.7/dist-packages (from scikit-learn>=0.24->imbalanced-learn->imblearn) (3.1.0)\n"
          ]
        }
      ]
    },
    {
      "cell_type": "code",
      "execution_count": null,
      "metadata": {
        "colab": {
          "base_uri": "https://localhost:8080/"
        },
        "id": "DImyRhQQdb40",
        "outputId": "43096b3c-c442-4280-9ec4-2889a5a44b69"
      },
      "outputs": [
        {
          "output_type": "stream",
          "name": "stdout",
          "text": [
            "      no  Spinbeam_temp  Roller1_speed  Roller2_speed  Roller2_temp     DR  \\\n",
            "0      1            256           3500           4039            95  1.154   \n",
            "1      2            256           3500           4039            95  1.154   \n",
            "2      3            256           3500           4039            95  1.154   \n",
            "3      4            256           3500           4039            95  1.154   \n",
            "4      5            258           1500           4039            95  2.693   \n",
            "..   ...            ...            ...            ...           ...    ...   \n",
            "791  792            268           1490           4105           100  2.755   \n",
            "792  793            268           1490           4105           100  2.755   \n",
            "793  794            268           1500           4105           100  2.737   \n",
            "794  795            268           1500           4105           100  2.737   \n",
            "795  796            268           1500           4105           100  2.737   \n",
            "\n",
            "     FR_speed  Tenacity  Elongation  \n",
            "0        4000      2.75       59.20  \n",
            "1        4000      2.62       59.30  \n",
            "2        4000      2.59       55.40  \n",
            "3        4000      2.54       56.30  \n",
            "4        4000      3.90       30.40  \n",
            "..        ...       ...         ...  \n",
            "791      4000      3.60       35.14  \n",
            "792      4000      3.10       29.23  \n",
            "793      4000      3.56       36.21  \n",
            "794      4000      3.56       34.97  \n",
            "795      4000      3.47       32.21  \n",
            "\n",
            "[796 rows x 9 columns]\n"
          ]
        }
      ],
      "source": [
        "import pandas as pd\n",
        "import matplotlib.pyplot as plt\n",
        "import seaborn as sns\n",
        "\n",
        "df = pd.read_excel(\"/content/ro_data.xlsx\")\n",
        "\n",
        "print(df)"
      ]
    },
    {
      "cell_type": "code",
      "source": [
        "y = []\n",
        "for i, r in df.iterrows():\n",
        "  if r[\"Roller2_temp\"] == 100:\n",
        "    y.append(0)\n",
        "  else:\n",
        "    y.append(1)\n",
        "print(y)"
      ],
      "metadata": {
        "colab": {
          "base_uri": "https://localhost:8080/"
        },
        "id": "3QdZyTYr_mQO",
        "outputId": "1a8b8be7-8a32-4a70-ddb8-45cb701bf5b3"
      },
      "execution_count": null,
      "outputs": [
        {
          "output_type": "stream",
          "name": "stdout",
          "text": [
            "[1, 1, 1, 1, 1, 1, 1, 1, 1, 1, 1, 1, 0, 0, 0, 0, 0, 0, 0, 0, 0, 0, 0, 0, 1, 1, 1, 1, 1, 1, 1, 1, 1, 1, 1, 1, 1, 1, 1, 1, 1, 1, 1, 1, 1, 1, 1, 1, 1, 1, 1, 1, 1, 1, 1, 1, 1, 1, 1, 1, 1, 1, 1, 1, 1, 1, 1, 1, 0, 0, 0, 0, 1, 1, 1, 1, 0, 0, 0, 0, 1, 1, 1, 1, 0, 0, 0, 0, 0, 0, 0, 0, 0, 0, 0, 0, 0, 0, 0, 0, 0, 0, 0, 0, 0, 0, 0, 0, 0, 0, 0, 0, 0, 0, 0, 0, 0, 0, 0, 0, 0, 0, 0, 0, 0, 0, 0, 0, 0, 0, 0, 0, 0, 0, 0, 0, 0, 0, 0, 0, 0, 0, 0, 0, 0, 0, 0, 0, 0, 0, 0, 0, 0, 0, 0, 0, 0, 0, 0, 0, 0, 0, 0, 0, 0, 0, 0, 0, 0, 0, 0, 0, 0, 0, 0, 0, 0, 0, 0, 0, 0, 0, 0, 0, 0, 0, 0, 0, 0, 0, 0, 0, 0, 0, 0, 0, 0, 0, 0, 0, 0, 0, 0, 0, 0, 0, 0, 0, 0, 0, 0, 0, 0, 0, 0, 0, 0, 0, 0, 0, 0, 0, 0, 0, 0, 0, 0, 0, 0, 0, 0, 0, 0, 0, 0, 0, 0, 0, 0, 0, 0, 0, 0, 0, 0, 0, 0, 0, 0, 0, 0, 0, 0, 0, 0, 0, 0, 0, 0, 0, 0, 0, 0, 0, 0, 0, 0, 0, 0, 0, 0, 0, 0, 0, 0, 0, 0, 0, 0, 0, 0, 0, 0, 0, 0, 0, 0, 0, 0, 0, 0, 0, 0, 0, 0, 0, 0, 0, 0, 0, 0, 0, 0, 0, 0, 0, 0, 0, 0, 0, 0, 0, 0, 0, 0, 0, 0, 0, 0, 0, 0, 0, 0, 0, 0, 0, 0, 0, 0, 0, 0, 0, 0, 0, 0, 0, 0, 0, 0, 0, 0, 0, 0, 0, 0, 0, 0, 0, 0, 0, 0, 0, 0, 0, 0, 0, 0, 0, 0, 0, 0, 0, 0, 0, 0, 0, 0, 0, 0, 0, 0, 0, 0, 0, 0, 0, 0, 0, 0, 0, 0, 0, 0, 0, 0, 0, 0, 0, 0, 0, 0, 0, 0, 0, 0, 0, 0, 0, 0, 0, 0, 0, 0, 0, 0, 0, 0, 0, 0, 0, 0, 0, 0, 0, 0, 0, 0, 0, 0, 0, 0, 0, 0, 0, 0, 0, 0, 0, 0, 0, 0, 0, 0, 0, 0, 0, 0, 0, 0, 0, 0, 0, 0, 0, 0, 0, 0, 0, 0, 0, 0, 0, 0, 0, 0, 0, 0, 0, 0, 0, 0, 0, 0, 0, 0, 0, 0, 0, 0, 0, 0, 0, 0, 0, 0, 0, 0, 0, 0, 0, 0, 0, 0, 0, 0, 0, 0, 0, 0, 0, 0, 0, 0, 0, 0, 0, 0, 0, 0, 0, 0, 0, 0, 0, 0, 0, 0, 0, 0, 0, 0, 0, 0, 0, 0, 0, 0, 0, 0, 0, 0, 0, 0, 0, 0, 0, 0, 0, 0, 0, 0, 0, 0, 0, 0, 0, 0, 0, 0, 0, 0, 0, 0, 0, 0, 0, 0, 0, 0, 0, 0, 0, 0, 0, 0, 0, 0, 0, 0, 0, 0, 0, 0, 0, 0, 0, 0, 0, 0, 0, 0, 0, 0, 0, 0, 0, 0, 0, 0, 0, 0, 0, 0, 0, 0, 0, 0, 0, 0, 0, 0, 0, 0, 0, 0, 0, 0, 0, 0, 0, 0, 0, 0, 0, 0, 0, 0, 0, 0, 0, 0, 0, 0, 0, 0, 0, 0, 0, 0, 0, 0, 0, 0, 0, 0, 0, 0, 0, 0, 0, 0, 0, 0, 0, 0, 0, 0, 0, 0, 0, 0, 0, 0, 0, 0, 0, 0, 0, 0, 0, 0, 0, 0, 0, 0, 0, 0, 0, 0, 0, 0, 0, 0, 0, 0, 0, 0, 0, 0, 0, 0, 0, 0, 0, 0, 0, 0, 0, 0, 0, 0, 0, 0, 0, 0, 0, 0, 0, 0, 0, 0, 0, 0, 0, 0, 0, 0, 0, 0, 0, 0, 0, 0, 0, 0, 0, 0, 0, 0, 0, 0, 0, 0, 0, 0, 0, 0, 0, 0, 0, 0, 0, 0, 0, 0, 0, 0, 0, 0, 0, 0, 0, 0, 0, 0, 0, 0, 0, 0, 0, 0, 0, 0, 0, 0, 0, 0, 0, 0, 0, 0, 0, 0, 0, 0, 0, 0, 0, 0, 0, 0, 0, 0, 0, 0, 0, 0, 0, 0, 0, 0, 0, 0, 0, 0, 0, 0, 0, 0, 0, 0, 0, 0, 0, 0, 0, 0, 0, 0, 0, 0, 0, 0, 0, 0, 0]\n"
          ]
        }
      ]
    },
    {
      "cell_type": "code",
      "source": [
        "def bal(x):\n",
        "  l = x.shape[0]\n",
        "  spin1 = 0\n",
        "  spin2 = 0\n",
        "  spin3 = 0\n",
        "  r1s1 = 0\n",
        "  r1s2 = 0\n",
        "  r2s1 = 0\n",
        "  r2s2 = 0\n",
        "  r2t1 = 0\n",
        "  r2t2 = 0\n",
        "  frs1 = 0\n",
        "  frs2 = 0\n",
        "  frs3 = 0\n",
        "  frs4 = 0\n",
        "  for i,r in x.iterrows():\n",
        "    if 250 <= r[\"Spinbeam_temp\"] <= 253:\n",
        "      spin1 = spin1 +1\n",
        "    if  262 <= r[\"Spinbeam_temp\"] <= 265:\n",
        "      spin2 = spin2 +1\n",
        "    if  266 <= r[\"Spinbeam_temp\"] <= 268:\n",
        "      spin3 = spin3 +1\n",
        "    if 1000 <= r[\"Roller1_speed\"] <= 1200:\n",
        "      r1s1 = r1s1 +1\n",
        "    if 1501 <= r[\"Roller1_speed\"] <= 3500:\n",
        "      r1s2 = r1s2 +1\n",
        "    if 4039 == r[\"Roller2_speed\"]:\n",
        "      r2s1 = r2s1 +1\n",
        "    if 4140 <= r[\"Roller2_speed\"] <= 4520:\n",
        "      r2s2 = r2s2 +1\n",
        "    if 95 == r[\"Roller2_temp\"]:\n",
        "      r2t1 = r2t1 +1\n",
        "    if 105 == r[\"Roller2_temp\"]:\n",
        "      r2t2 = r2t2 +1\n",
        "    if 4100 == r[\"FR_speed\"]:\n",
        "      frs1 = frs1 +1\n",
        "    if 4200 == r[\"FR_speed\"]:\n",
        "      frs2 = frs2 +1\n",
        "    if 4300 == r[\"FR_speed\"]:\n",
        "      frs3 = frs3 +1\n",
        "    if 4100 == r[\"FR_speed\"]:\n",
        "      frs4 = frs4 +1\n",
        "  print(\"Spinbeam_temp1 \", (spin1/l)*100 , \"%\")\n",
        "  print(\"Spinbeam_temp2 \", (spin2/l)*100 , \"%\")\n",
        "  print(\"Spinbeam_temp3 \", (spin3/l)*100 , \"%\")\n",
        "  print(\"Roller1_speed1 \", (r1s1/l)*100 , \"%\")\n",
        "  print(\"Roller1_speed2 \", (r1s2/l)*100 , \"%\")\n",
        "  print(\"Roller2_speed1 \", (r2s1/l)*100 , \"%\")\n",
        "  print(\"Roller2_speed2 \", (r2s2/l)*100 , \"%\")\n",
        "  print(\"           Roller2_temp1 95 \", (r2t1/l)*100 , \"%\")\n",
        "  print(\"           Roller2_temp2 105 \", (r2t2/l)*100 , \"%\")\n",
        "  print(\"FR_speed1 \", (frs1/l)*100 , \"%\")\n",
        "  print(\"FR_speed2 \", (frs2/l)*100 , \"%\")\n",
        "  print(\"FR_speed3 \", (frs3/l)*100 , \"%\")\n",
        "  print(\"FR_speed4 \", (frs4/l)*100 , \"%\")"
      ],
      "metadata": {
        "id": "8RTvDeR5E2Mu"
      },
      "execution_count": null,
      "outputs": []
    },
    {
      "cell_type": "code",
      "source": [
        "bal(df)"
      ],
      "metadata": {
        "id": "LC_BXsKpEBSm",
        "colab": {
          "base_uri": "https://localhost:8080/"
        },
        "outputId": "f6d4bf0d-d305-4837-fe60-103d09f5c1f0"
      },
      "execution_count": null,
      "outputs": [
        {
          "output_type": "stream",
          "name": "stdout",
          "text": [
            "Spinbeam_temp1  12.939698492462313 %\n",
            "Spinbeam_temp2  10.42713567839196 %\n",
            "Spinbeam_temp3  10.050251256281408 %\n",
            "Roller1_speed1  2.8894472361809047 %\n",
            "Roller1_speed2  8.417085427135678 %\n",
            "Roller2_speed1  6.532663316582915 %\n",
            "Roller2_speed2  17.964824120603016 %\n",
            "           Roller2_temp1 95  6.909547738693467 %\n",
            "           Roller2_temp2 105  1.1306532663316584 %\n",
            "FR_speed1  1.507537688442211 %\n",
            "FR_speed2  6.532663316582915 %\n",
            "FR_speed3  5.025125628140704 %\n",
            "FR_speed4  1.507537688442211 %\n"
          ]
        }
      ]
    },
    {
      "cell_type": "code",
      "source": [
        "from imblearn.over_sampling import RandomOverSampler, SMOTE\n",
        "from collections import Counter\n",
        "\n",
        "\n",
        "ros = RandomOverSampler(random_state=42)\n",
        "X_ros, y_res = ros.fit_resample(df,y)\n",
        "\n",
        "bal(X_ros)"
      ],
      "metadata": {
        "colab": {
          "base_uri": "https://localhost:8080/"
        },
        "id": "tQ3nL7d4-jYI",
        "outputId": "91f27b32-4c89-4f19-f30c-63352f32dd7f"
      },
      "execution_count": null,
      "outputs": [
        {
          "output_type": "stream",
          "name": "stdout",
          "text": [
            "Spinbeam_temp1  7.035519125683059 %\n",
            "Spinbeam_temp2  5.669398907103825 %\n",
            "Spinbeam_temp3  5.46448087431694 %\n",
            "Roller1_speed1  3.415300546448088 %\n",
            "Roller1_speed2  38.9344262295082 %\n",
            "Roller2_speed1  32.650273224043715 %\n",
            "Roller2_speed2  26.297814207650273 %\n",
            "           Roller2_temp1 95  44.330601092896174 %\n",
            "           Roller2_temp2 105  5.669398907103825 %\n",
            "FR_speed1  8.743169398907105 %\n",
            "FR_speed2  12.158469945355192 %\n",
            "FR_speed3  2.73224043715847 %\n",
            "FR_speed4  8.743169398907105 %\n"
          ]
        }
      ]
    },
    {
      "cell_type": "code",
      "source": [
        "smote = SMOTE(random_state=42, k_neighbors=5)\n",
        "X_smote, y_smote = ros.fit_resample(df,y)\n",
        "\n",
        "bal(X_smote)"
      ],
      "metadata": {
        "colab": {
          "base_uri": "https://localhost:8080/"
        },
        "id": "By8dzG_1LhKn",
        "outputId": "cd1df5e2-eca8-4ccf-84d3-44018cf25f19"
      },
      "execution_count": null,
      "outputs": [
        {
          "output_type": "stream",
          "name": "stdout",
          "text": [
            "Spinbeam_temp1  7.035519125683059 %\n",
            "Spinbeam_temp2  5.669398907103825 %\n",
            "Spinbeam_temp3  5.46448087431694 %\n",
            "Roller1_speed1  3.415300546448088 %\n",
            "Roller1_speed2  38.9344262295082 %\n",
            "Roller2_speed1  32.650273224043715 %\n",
            "Roller2_speed2  26.297814207650273 %\n",
            "           Roller2_temp1 95  44.330601092896174 %\n",
            "           Roller2_temp2 105  5.669398907103825 %\n",
            "FR_speed1  8.743169398907105 %\n",
            "FR_speed2  12.158469945355192 %\n",
            "FR_speed3  2.73224043715847 %\n",
            "FR_speed4  8.743169398907105 %\n"
          ]
        }
      ]
    },
    {
      "cell_type": "code",
      "source": [
        "df2 = pd.read_excel(\"/content/os_data.xlsx\")\n",
        "bal(df2)"
      ],
      "metadata": {
        "colab": {
          "base_uri": "https://localhost:8080/"
        },
        "id": "dRdF6N_qIvr2",
        "outputId": "8d38aa4c-7ca9-481e-f595-ee291fcaac20"
      },
      "execution_count": null,
      "outputs": [
        {
          "output_type": "stream",
          "name": "stdout",
          "text": [
            "Spinbeam_temp1  8.633696563285834 %\n",
            "Spinbeam_temp2  6.957250628667226 %\n",
            "Spinbeam_temp3  6.705783738474434 %\n",
            "Roller1_speed1  2.5984911986588433 %\n",
            "Roller1_speed2  29.7569153394803 %\n",
            "Roller2_speed1  17.60268231349539 %\n",
            "Roller2_speed2  32.02011735121542 %\n",
            "           Roller2_temp1 95  19.19530595138307 %\n",
            "           Roller2_temp2 105  12.824811399832356 %\n",
            "FR_speed1  7.711651299245599 %\n",
            "FR_speed2  11.064543168482817 %\n",
            "FR_speed3  6.705783738474434 %\n",
            "FR_speed4  7.711651299245599 %\n"
          ]
        }
      ]
    },
    {
      "cell_type": "code",
      "source": [],
      "metadata": {
        "id": "-vFksOGZyaLn"
      },
      "execution_count": null,
      "outputs": []
    },
    {
      "cell_type": "code",
      "source": [
        "print(X_res)"
      ],
      "metadata": {
        "colab": {
          "base_uri": "https://localhost:8080/"
        },
        "id": "X2sQrC1KEczo",
        "outputId": "f482ba84-f992-46c0-b832-a2c31ec87ddb"
      },
      "execution_count": null,
      "outputs": [
        {
          "output_type": "stream",
          "name": "stdout",
          "text": [
            "      no  Spinbeam_temp  Roller1_speed  Roller2_speed  Roller2_temp     DR  \\\n",
            "0      1            256           3500           4039            95  1.154   \n",
            "1      2            256           3500           4039            95  1.154   \n",
            "2      3            256           3500           4039            95  1.154   \n",
            "3      4            256           3500           4039            95  1.154   \n",
            "4      5            258           1500           4039            95  2.693   \n",
            "...   ..            ...            ...            ...           ...    ...   \n",
            "1459  34            256           2500           4039            95  1.616   \n",
            "1460  73            256           1500           4039            95  2.693   \n",
            "1461  41            258           1537           4140            95  2.694   \n",
            "1462  26            256           3000           4039            95  1.346   \n",
            "1463  40            258           2050           4140            95  2.020   \n",
            "\n",
            "      FR_speed  Tenacity  Elongation  \n",
            "0         4000      2.75        59.2  \n",
            "1         4000      2.62        59.3  \n",
            "2         4000      2.59        55.4  \n",
            "3         4000      2.54        56.3  \n",
            "4         4000      3.90        30.4  \n",
            "...        ...       ...         ...  \n",
            "1459      4000      3.11        43.8  \n",
            "1460      4000      3.89        29.5  \n",
            "1461      4100      3.91        28.4  \n",
            "1462      4000      2.93        55.9  \n",
            "1463      4100      3.61        33.8  \n",
            "\n",
            "[1464 rows x 9 columns]\n"
          ]
        }
      ]
    },
    {
      "cell_type": "code",
      "source": [
        "import matplotlib.pyplot as plt\n",
        "import seaborn as sns\n",
        "\n",
        "\n",
        "df.head()\n",
        "\n",
        "plt.boxplot(df[\"Tenacity\"])\n",
        "plt.show()"
      ],
      "metadata": {
        "colab": {
          "base_uri": "https://localhost:8080/",
          "height": 265
        },
        "id": "D_ADwefEmzow",
        "outputId": "6d150e0c-5eaa-4280-d0a3-97b153d3ed8f"
      },
      "execution_count": null,
      "outputs": [
        {
          "output_type": "display_data",
          "data": {
            "text/plain": [
              "<Figure size 432x288 with 1 Axes>"
            ],
            "image/png": "[encoded data removed]"
          },
          "metadata": {
            "needs_background": "light"
          }
        }
      ]
    },
    {
      "cell_type": "code",
      "source": [
        "plt.boxplot(df[\"Tenacity\"],sym=\"bo\")\n",
        "plt.title(\"Box plot of process data\")\n",
        "plt.xticks([1],[\"Tenacity\"])\n",
        "plt.show()"
      ],
      "metadata": {
        "colab": {
          "base_uri": "https://localhost:8080/",
          "height": 319
        },
        "id": "f2ATZ8C5ovkb",
        "outputId": "ac23f5a9-e5d7-4c1f-d2db-57d62b8b64f3"
      },
      "execution_count": null,
      "outputs": [
        {
          "output_type": "display_data",
          "data": {
            "text/plain": [
              "<Figure size 400x300 with 1 Axes>"
            ],
            "image/png": "[encoded data removed]"
          },
          "metadata": {}
        }
      ]
    },
    {
      "cell_type": "code",
      "source": [
        "plt.boxplot(df[\"Tenacity\"],notch=1,sym=\"rs\")\n",
        "plt.show()"
      ],
      "metadata": {
        "colab": {
          "base_uri": "https://localhost:8080/",
          "height": 295
        },
        "id": "LpcjgwQQpIB0",
        "outputId": "9f7a48d3-99e4-4047-c113-ec2bf637a2e7"
      },
      "execution_count": null,
      "outputs": [
        {
          "output_type": "display_data",
          "data": {
            "text/plain": [
              "<Figure size 400x300 with 1 Axes>"
            ],
            "image/png": "[encoded data removed]"
          },
          "metadata": {}
        }
      ]
    },
    {
      "cell_type": "code",
      "source": [
        "sns.boxplot(x=\"Spinbeam_temp\",y=\"Tenacity\",data=df,width=0.5,color=\"skyblue\")\n",
        "#plt.boxplot(df[\"Tenacity\"],sym=\"bo\")\n",
        "plt.show()"
      ],
      "metadata": {
        "colab": {
          "base_uri": "https://localhost:8080/",
          "height": 319
        },
        "id": "4eErdqVWpnUD",
        "outputId": "0e412f3f-7ff6-47c3-ca37-ba7d1739de2b"
      },
      "execution_count": null,
      "outputs": [
        {
          "output_type": "display_data",
          "data": {
            "text/plain": [
              "<Figure size 400x300 with 1 Axes>"
            ],
            "image/png": "[encoded data removed]"
          },
          "metadata": {}
        }
      ]
    },
    {
      "cell_type": "code",
      "source": [
        "plt.boxplot([df[\"Spinbeam_temp\"],df[\"Tenacity\"]])\n",
        "plt.show()"
      ],
      "metadata": {
        "colab": {
          "base_uri": "https://localhost:8080/",
          "height": 295
        },
        "id": "95N0D7VIq7sr",
        "outputId": "5ee0ab8c-c52d-4374-a14d-8f64489a08de"
      },
      "execution_count": null,
      "outputs": [
        {
          "output_type": "display_data",
          "data": {
            "text/plain": [
              "<Figure size 400x300 with 1 Axes>"
            ],
            "image/png": "[encoded data removed]"
          },
          "metadata": {}
        }
      ]
    },
    {
      "cell_type": "code",
      "source": [
        "Q1 = df['Tenacity'].quantile(0.25)\n",
        "Q3 = df['Tenacity'].quantile(0.75)\n",
        "IQR = Q3 - Q1    #IQR is interquartile range. \n",
        "\n",
        "filter = (df['Tenacity'] >= Q1 - 1.5 * IQR) & (df['Tenacity'] <= Q3 + 1.5 *IQR)\n",
        "df_after_box = df.loc[filter] "
      ],
      "metadata": {
        "id": "qUDbw6vJveWt"
      },
      "execution_count": null,
      "outputs": []
    },
    {
      "cell_type": "code",
      "source": [
        "sns.boxplot(x=\"Spinbeam_temp\",y=\"Tenacity\",data=df_after_box,width=0.5,color=\"skyblue\")\n",
        "#plt.boxplot(df[\"Tenacity\"],sym=\"bo\")"
      ],
      "metadata": {
        "colab": {
          "base_uri": "https://localhost:8080/",
          "height": 337
        },
        "id": "H-YBCSgn0aka",
        "outputId": "a3d9ca03-c343-46a6-8655-1e14a5118abc"
      },
      "execution_count": null,
      "outputs": [
        {
          "output_type": "execute_result",
          "data": {
            "text/plain": [
              "<matplotlib.axes._subplots.AxesSubplot at 0x7f6012aaba10>"
            ]
          },
          "metadata": {},
          "execution_count": 39
        },
        {
          "output_type": "display_data",
          "data": {
            "text/plain": [
              "<Figure size 400x300 with 1 Axes>"
            ],
            "image/png": "[encoded data removed]"
          },
          "metadata": {}
        }
      ]
    },
    {
      "cell_type": "code",
      "source": [
        "plt.boxplot(df[\"Tenacity\"])"
      ],
      "metadata": {
        "colab": {
          "base_uri": "https://localhost:8080/",
          "height": 442
        },
        "id": "vGp9fyLF0nYd",
        "outputId": "4de79648-d104-4aa2-84ae-495d3240f52c"
      },
      "execution_count": null,
      "outputs": [
        {
          "output_type": "execute_result",
          "data": {
            "text/plain": [
              "{'boxes': [<matplotlib.lines.Line2D at 0x7f6012eb8e50>],\n",
              " 'caps': [<matplotlib.lines.Line2D at 0x7f6012ec8ed0>,\n",
              "  <matplotlib.lines.Line2D at 0x7f60130ef450>],\n",
              " 'fliers': [<matplotlib.lines.Line2D at 0x7f60130eff10>],\n",
              " 'means': [],\n",
              " 'medians': [<matplotlib.lines.Line2D at 0x7f60130ef9d0>],\n",
              " 'whiskers': [<matplotlib.lines.Line2D at 0x7f6012ec8450>,\n",
              "  <matplotlib.lines.Line2D at 0x7f6012ec8990>]}"
            ]
          },
          "metadata": {},
          "execution_count": 36
        },
        {
          "output_type": "display_data",
          "data": {
            "text/plain": [
              "<Figure size 400x300 with 1 Axes>"
            ],
            "image/png": "[encoded data removed]"
          },
          "metadata": {}
        }
      ]
    },
    {
      "cell_type": "code",
      "source": [
        "print(df_after_box)"
      ],
      "metadata": {
        "colab": {
          "base_uri": "https://localhost:8080/",
          "height": 172
        },
        "id": "I0A_kXCc02eU",
        "outputId": "42ca2aa9-f60a-41e5-ad51-d321e4b05fc4"
      },
      "execution_count": null,
      "outputs": [
        {
          "output_type": "error",
          "ename": "NameError",
          "evalue": "ignored",
          "traceback": [
            "\u001b[0;31m---------------------------------------------------------------------------\u001b[0m",
            "\u001b[0;31mNameError\u001b[0m                                 Traceback (most recent call last)",
            "\u001b[0;32m<ipython-input-14-951a77fa634c>\u001b[0m in \u001b[0;36m<module>\u001b[0;34m()\u001b[0m\n\u001b[0;32m----> 1\u001b[0;31m \u001b[0mprint\u001b[0m\u001b[0;34m(\u001b[0m\u001b[0mdf_after_box\u001b[0m\u001b[0;34m)\u001b[0m\u001b[0;34m\u001b[0m\u001b[0;34m\u001b[0m\u001b[0m\n\u001b[0m",
            "\u001b[0;31mNameError\u001b[0m: name 'df_after_box' is not defined"
          ]
        }
      ]
    },
    {
      "cell_type": "code",
      "source": [
        "from pyod.models.knn import KNN "
      ],
      "metadata": {
        "colab": {
          "base_uri": "https://localhost:8080/",
          "height": 318
        },
        "id": "hEQQm67A04uc",
        "outputId": "6c783708-c31c-4e0b-85a9-b97079516fda"
      },
      "execution_count": null,
      "outputs": [
        {
          "output_type": "error",
          "ename": "ModuleNotFoundError",
          "evalue": "ignored",
          "traceback": [
            "\u001b[0;31m---------------------------------------------------------------------------\u001b[0m",
            "\u001b[0;31mModuleNotFoundError\u001b[0m                       Traceback (most recent call last)",
            "\u001b[0;32m<ipython-input-5-3ce3e7151649>\u001b[0m in \u001b[0;36m<module>\u001b[0;34m()\u001b[0m\n\u001b[0;32m----> 1\u001b[0;31m \u001b[0;32mfrom\u001b[0m \u001b[0mpyod\u001b[0m\u001b[0;34m.\u001b[0m\u001b[0mmodels\u001b[0m\u001b[0;34m.\u001b[0m\u001b[0mknn\u001b[0m \u001b[0;32mimport\u001b[0m \u001b[0mKNN\u001b[0m\u001b[0;34m\u001b[0m\u001b[0;34m\u001b[0m\u001b[0m\n\u001b[0m",
            "\u001b[0;31mModuleNotFoundError\u001b[0m: No module named 'pyod'",
            "",
            "\u001b[0;31m---------------------------------------------------------------------------\u001b[0;32m\nNOTE: If your import is failing due to a missing package, you can\nmanually install dependencies using either !pip or !apt.\n\nTo view examples of installing some common dependencies, click the\n\"Open Examples\" button below.\n\u001b[0;31m---------------------------------------------------------------------------\u001b[0m\n"
          ],
          "errorDetails": {
            "actions": [
              {
                "action": "open_url",
                "actionText": "Open Examples",
                "url": "/notebooks/snippets/importing_libraries.ipynb"
              }
            ]
          }
        }
      ]
    },
    {
      "cell_type": "code",
      "source": [
        "!pip install pyod"
      ],
      "metadata": {
        "colab": {
          "base_uri": "https://localhost:8080/"
        },
        "id": "s0Mzt3du4UDl",
        "outputId": "4de7be8a-2180-4e4f-f20e-1c8a9e91ea31"
      },
      "execution_count": null,
      "outputs": [
        {
          "output_type": "stream",
          "name": "stdout",
          "text": [
            "Looking in indexes: https://pypi.org/simple, https://us-python.pkg.dev/colab-wheels/public/simple/\n",
            "Collecting pyod\n",
            "  Downloading pyod-1.0.3.tar.gz (125 kB)\n",
            "\u001b[K     |████████████████████████████████| 125 kB 7.3 MB/s \n",
            "\u001b[?25hRequirement already satisfied: joblib in /usr/local/lib/python3.7/dist-packages (from pyod) (1.1.0)\n",
            "Requirement already satisfied: matplotlib in /usr/local/lib/python3.7/dist-packages (from pyod) (3.2.2)\n",
            "Requirement already satisfied: numpy>=1.19 in /usr/local/lib/python3.7/dist-packages (from pyod) (1.21.6)\n",
            "Requirement already satisfied: numba>=0.51 in /usr/local/lib/python3.7/dist-packages (from pyod) (0.51.2)\n",
            "Requirement already satisfied: scipy>=1.5.1 in /usr/local/lib/python3.7/dist-packages (from pyod) (1.7.3)\n",
            "Requirement already satisfied: scikit_learn>=0.20.0 in /usr/local/lib/python3.7/dist-packages (from pyod) (1.0.2)\n",
            "Requirement already satisfied: six in /usr/local/lib/python3.7/dist-packages (from pyod) (1.15.0)\n",
            "Requirement already satisfied: statsmodels in /usr/local/lib/python3.7/dist-packages (from pyod) (0.10.2)\n",
            "Requirement already satisfied: llvmlite<0.35,>=0.34.0.dev0 in /usr/local/lib/python3.7/dist-packages (from numba>=0.51->pyod) (0.34.0)\n",
            "Requirement already satisfied: setuptools in /usr/local/lib/python3.7/dist-packages (from numba>=0.51->pyod) (57.4.0)\n",
            "Requirement already satisfied: threadpoolctl>=2.0.0 in /usr/local/lib/python3.7/dist-packages (from scikit_learn>=0.20.0->pyod) (3.1.0)\n",
            "Requirement already satisfied: pyparsing!=2.0.4,!=2.1.2,!=2.1.6,>=2.0.1 in /usr/local/lib/python3.7/dist-packages (from matplotlib->pyod) (3.0.9)\n",
            "Requirement already satisfied: cycler>=0.10 in /usr/local/lib/python3.7/dist-packages (from matplotlib->pyod) (0.11.0)\n",
            "Requirement already satisfied: kiwisolver>=1.0.1 in /usr/local/lib/python3.7/dist-packages (from matplotlib->pyod) (1.4.4)\n",
            "Requirement already satisfied: python-dateutil>=2.1 in /usr/local/lib/python3.7/dist-packages (from matplotlib->pyod) (2.8.2)\n",
            "Requirement already satisfied: typing-extensions in /usr/local/lib/python3.7/dist-packages (from kiwisolver>=1.0.1->matplotlib->pyod) (4.1.1)\n",
            "Requirement already satisfied: patsy>=0.4.0 in /usr/local/lib/python3.7/dist-packages (from statsmodels->pyod) (0.5.2)\n",
            "Requirement already satisfied: pandas>=0.19 in /usr/local/lib/python3.7/dist-packages (from statsmodels->pyod) (1.3.5)\n",
            "Requirement already satisfied: pytz>=2017.3 in /usr/local/lib/python3.7/dist-packages (from pandas>=0.19->statsmodels->pyod) (2022.1)\n",
            "Building wheels for collected packages: pyod\n",
            "  Building wheel for pyod (setup.py) ... \u001b[?25l\u001b[?25hdone\n",
            "  Created wheel for pyod: filename=pyod-1.0.3-py3-none-any.whl size=154726 sha256=ee22b5ea1d2a0625aa02b722e614c8bc9635a13dccac7d10ce77921978c14df9\n",
            "  Stored in directory: /root/.cache/pip/wheels/60/1e/04/b42e786399bd7503af674d1ec95d93665b1700309ec3525b65\n",
            "Successfully built pyod\n",
            "Installing collected packages: pyod\n",
            "Successfully installed pyod-1.0.3\n"
          ]
        }
      ]
    },
    {
      "cell_type": "code",
      "source": [
        "from pyod.models.cblof import CBLOF   # kNN detector\n",
        "\n",
        "clf = CBLOF()\n",
        "clf.fit(df)"
      ],
      "metadata": {
        "colab": {
          "base_uri": "https://localhost:8080/"
        },
        "id": "M1tMBvt04d5M",
        "outputId": "54cdfa9f-efc1-4887-83e6-4e043f9ca647"
      },
      "execution_count": null,
      "outputs": [
        {
          "output_type": "execute_result",
          "data": {
            "text/plain": [
              "CBLOF(alpha=0.9, beta=5, check_estimator=False, clustering_estimator=None,\n",
              "   contamination=0.1, n_clusters=8, n_jobs=None, random_state=None,\n",
              "   use_weights=False)"
            ]
          },
          "metadata": {},
          "execution_count": 7
        }
      ]
    },
    {
      "cell_type": "code",
      "source": [
        "y_train_pred = clf.labels_\n",
        "print(y_train_pred)"
      ],
      "metadata": {
        "colab": {
          "base_uri": "https://localhost:8080/"
        },
        "id": "4ik0kKnV6cxI",
        "outputId": "4e1f6163-b03f-4f07-ef57-000e0d5c0e26"
      },
      "execution_count": null,
      "outputs": [
        {
          "output_type": "stream",
          "name": "stdout",
          "text": [
            "[1 1 1 1 0 0 0 0 1 1 1 1 1 1 1 1 0 0 0 0 1 1 1 1 1 1 1 1 0 0 0 0 0 1 1 1 1\n",
            " 1 1 1 1 0 0 0 0 1 1 1 1 1 1 0 0 1 1 1 1 0 0 0 0 1 1 1 1 0 0 0 0 0 0 0 0 0\n",
            " 0 0 0 0 0 0 0 1 1 1 1 0 0 0 0 0 0 0 0 0 0 0 0 1 1 1 1 0 0 0 0 0 0 0 0 0 0\n",
            " 0 0 0 0 0 0 1 1 1 1 0 0 0 0 0 0 0 0 0 0 0 0 0 0 0 0 0 0 0 0 0 0 0 0 0 0 0\n",
            " 0 0 0 0 0 0 0 0 0 0 0 0 0 0 0 0 0 1 1 1 1 0 0 0 0 0 0 0 0 0 0 0 0 0 0 0 0\n",
            " 1 1 1 1 0 0 0 0 0 0 0 0 0 0 0 0 0 0 0 0 1 1 1 1 0 0 0 0 0 0 0 0 0 0 0 0 0\n",
            " 0 0 0 1 1 1 1 1 1 1 1 1 1 1 1 1 1 1 1 0 0 0 0 0 0 0 0 0 0 0 0 0 0 0 0 0 0\n",
            " 0 0 0 0 0 0 0 0 0 0 0 0 0 0 0 0 0 0 0 0 0 0 0 0 0 0 0 0 0 0 0 0 0 0 0 0 0\n",
            " 0 0 0 0 0 0 0 0 0 0 0 0 0 0 0 0 0 0 0 0 0 0 0 0 0 0 0 0 0 0 0 0 0 0 0 0 0\n",
            " 0 0 0 0 0 0 0 0 0 0 0 0 0 0 0 0 0 0 0 0 0 0 0 0 0 0 0 0 0 0 0 0 0 0 0 0 0\n",
            " 0 0 0 0 0 0 0 0 0 0 0 0 0 0 0 0 0 0 0 0 0 0 0 0 0 0 0 0 0 0 0 0 0 0 0 0 0\n",
            " 0 0 0 0 0 0 0 0 0 0 0 0 0 0 0 0 0 0 0 0 0 0 0 0 0 0 0 0 0 0 0 0 0 0 0 0 0\n",
            " 0 0 0 0 0 0 0 0 0 0 0 0 0 0 0 0 0 0 0 0 0 0 0 0 0 0 0 0 0 0 0 0 0 0 0 0 0\n",
            " 0 0 0 0 0 0 0 0 0 0 0 0 0 0 0 0 0 0 0 0 0 0 0 0 0 0 0 0 0 0 0 0 0 0 0 0 0\n",
            " 0 0 0 0 0 0 0 0 0 0 0 0 0 0 0 0 0 0 0 0 0 0 0 0 0 0 0 0 0 0 0 0 0 0 0 0 0\n",
            " 0 0 0 0 0 0 0 0 0 0 0 0 0 0 0 0 0 0 0 0 0 0 0 0 0 0 0 0 0 0 0 0 0 0 0 0 0\n",
            " 0 0 0 0 0 0 0 0 0 0 0 0 0 0 0 0 0 0 0 0 0 0 0 0 0 0 0 0 0 0 0 0 0 0 0 0 0\n",
            " 0 0 0 0 0 0 0 0 0 0 0 0 0 0 0 0 0 0 0 0 0 0 0 0 0 0 0 0 0 0 0 0 0 0 0 0 0\n",
            " 0 0 0 0 0 0 0 0 0 0 0 0 0 0 0 0 0 0 0 0 0 0 0 0 0 0 0 0 0 0 0 0 0 0 0 0 0\n",
            " 0 0 0 0 0 0 0 0 0 0 0 0 0 0 0 0 0 0 0 0 0 0 0 0 0 0 0 0 0 0 0 0 0 0 0 0 0\n",
            " 0 0 0 0 0 0 0 0 0 0 0 0 0 0 0 0 0 0 0 0 0 0 0 0 0 0 0 0 0 0 0 0 0 0 0 0 0\n",
            " 0 0 0 0 0 0 0 0 0 0 0 0 0 0 0 0 0 0 0 0 0 0 0 0 0 0 0 0 0 0 0 0 0 0 0 0 0\n",
            " 0 0]\n"
          ]
        }
      ]
    },
    {
      "cell_type": "code",
      "source": [
        "drop = []\n",
        "mindex = 0\n",
        "for a in y_train_pred:\n",
        "  if a == 1:\n",
        "    drop.append(mindex)\n",
        "  mindex = mindex+1\n",
        "print(drop)"
      ],
      "metadata": {
        "colab": {
          "base_uri": "https://localhost:8080/"
        },
        "id": "IWOQtK3HbA0o",
        "outputId": "8110a9eb-2b0b-472f-b02f-7396e391b5c4"
      },
      "execution_count": null,
      "outputs": [
        {
          "output_type": "stream",
          "name": "stdout",
          "text": [
            "[0, 1, 2, 3, 8, 9, 10, 11, 12, 13, 14, 15, 20, 21, 22, 23, 24, 25, 26, 27, 33, 34, 35, 36, 37, 38, 39, 40, 45, 46, 47, 48, 49, 50, 53, 54, 55, 56, 61, 62, 63, 64, 81, 82, 83, 84, 97, 98, 99, 100, 117, 118, 119, 120, 165, 166, 167, 168, 185, 186, 187, 188, 205, 206, 207, 208, 225, 226, 227, 228, 229, 230, 231, 232, 233, 234, 235, 236, 237, 238, 239, 240]\n"
          ]
        }
      ]
    },
    {
      "cell_type": "code",
      "source": [
        "df_clof = df.drop(drop)\n",
        "plt.scatter(df_clof[\"Spinbeam_temp\"],df_clof[\"Tenacity\"])\n",
        "plt.show()"
      ],
      "metadata": {
        "colab": {
          "base_uri": "https://localhost:8080/",
          "height": 265
        },
        "id": "UP-BoTVsbsQr",
        "outputId": "b7cce267-846d-4304-dbe5-86620a371b64"
      },
      "execution_count": null,
      "outputs": [
        {
          "output_type": "display_data",
          "data": {
            "text/plain": [
              "<Figure size 432x288 with 1 Axes>"
            ],
            "image/png": "[encoded data removed]"
          },
          "metadata": {
            "needs_background": "light"
          }
        }
      ]
    },
    {
      "cell_type": "code",
      "source": [
        "df_clof.to_excel(\"/content/clof.xlsx\",  sheet_name = 'Sheet1', na_rep = 'NaN', float_format = \"%.2f\", header = True,index = True, index_label = \"id\", startrow = 1,startcol = 1, freeze_panes = (2, 0))"
      ],
      "metadata": {
        "id": "j_rBQugscYoQ"
      },
      "execution_count": null,
      "outputs": []
    },
    {
      "cell_type": "code",
      "source": [
        "plt.scatter(df[\"Spinbeam_temp\"],df[\"Tenacity\"],c=y_train_pred,label=y_train_pred)\n",
        "plt.show()"
      ],
      "metadata": {
        "colab": {
          "base_uri": "https://localhost:8080/",
          "height": 295
        },
        "id": "fVp_Ceq27kUP",
        "outputId": "761c3eae-6e58-49e4-d732-8ac410e72a78"
      },
      "execution_count": null,
      "outputs": [
        {
          "output_type": "display_data",
          "data": {
            "text/plain": [
              "<Figure size 400x300 with 1 Axes>"
            ],
            "image/png": "[encoded data removed]"
          },
          "metadata": {}
        }
      ]
    },
    {
      "cell_type": "code",
      "source": [
        "cnt = 0\n",
        "for a in y_train_pred:\n",
        "  if(a == 1):\n",
        "    cnt = cnt+1\n",
        "print(cnt)"
      ],
      "metadata": {
        "colab": {
          "base_uri": "https://localhost:8080/"
        },
        "id": "Hf6jD0tx7-17",
        "outputId": "883d6f18-e3a8-41e4-a094-9b8f20acef40"
      },
      "execution_count": null,
      "outputs": [
        {
          "output_type": "stream",
          "name": "stdout",
          "text": [
            "82\n"
          ]
        }
      ]
    },
    {
      "cell_type": "code",
      "source": [
        "clf = CBLOF()\n",
        "clf.fit(df[\"Tenacity\"].values.reshape(-1, 1))\n",
        "labeled = clf.labels_"
      ],
      "metadata": {
        "id": "KCMGOFr_-gdz"
      },
      "execution_count": null,
      "outputs": []
    },
    {
      "cell_type": "code",
      "source": [
        "plt.scatter(df[\"Spinbeam_temp\"],df[\"Tenacity\"],c=labeled,label=labeled)\n",
        "plt.show()"
      ],
      "metadata": {
        "colab": {
          "base_uri": "https://localhost:8080/",
          "height": 295
        },
        "id": "VNDuiWEq_qI5",
        "outputId": "29033f29-104d-4495-a460-9156d9891efd"
      },
      "execution_count": null,
      "outputs": [
        {
          "output_type": "display_data",
          "data": {
            "text/plain": [
              "<Figure size 400x300 with 1 Axes>"
            ],
            "image/png": "[encoded data removed]"
          },
          "metadata": {}
        }
      ]
    },
    {
      "cell_type": "code",
      "source": [
        "cnt = 0\n",
        "for a in labeled:\n",
        "  if(a == 1):\n",
        "    cnt = cnt+1\n",
        "print(cnt)"
      ],
      "metadata": {
        "colab": {
          "base_uri": "https://localhost:8080/"
        },
        "id": "dCoWOIiQ_xLd",
        "outputId": "1c4b3321-c7dc-49b6-c50b-a977c44766d4"
      },
      "execution_count": null,
      "outputs": [
        {
          "output_type": "stream",
          "name": "stdout",
          "text": [
            "81\n"
          ]
        }
      ]
    },
    {
      "cell_type": "code",
      "source": [
        "df.head(1)"
      ],
      "metadata": {
        "colab": {
          "base_uri": "https://localhost:8080/",
          "height": 172
        },
        "id": "Et4DMRAjDbK2",
        "outputId": "0187122e-b649-4c55-a2a4-1e5e4bd3f5e7"
      },
      "execution_count": null,
      "outputs": [
        {
          "output_type": "error",
          "ename": "NameError",
          "evalue": "ignored",
          "traceback": [
            "\u001b[0;31m---------------------------------------------------------------------------\u001b[0m",
            "\u001b[0;31mNameError\u001b[0m                                 Traceback (most recent call last)",
            "\u001b[0;32m<ipython-input-1-c11b9b275432>\u001b[0m in \u001b[0;36m<module>\u001b[0;34m()\u001b[0m\n\u001b[0;32m----> 1\u001b[0;31m \u001b[0mdf\u001b[0m\u001b[0;34m.\u001b[0m\u001b[0mhead\u001b[0m\u001b[0;34m(\u001b[0m\u001b[0;36m1\u001b[0m\u001b[0;34m)\u001b[0m\u001b[0;34m\u001b[0m\u001b[0;34m\u001b[0m\u001b[0m\n\u001b[0m",
            "\u001b[0;31mNameError\u001b[0m: name 'df' is not defined"
          ]
        }
      ]
    },
    {
      "cell_type": "code",
      "source": [
        "labeling = {\"label\":[]}\n",
        "c = {}\n",
        "sum =0\n",
        "cnt =0\n",
        "for a in df.columns.values:\n",
        "  c[a]=df[a].iloc[0]\n",
        "print(c)"
      ],
      "metadata": {
        "colab": {
          "base_uri": "https://localhost:8080/"
        },
        "id": "vKivxYB8BNxY",
        "outputId": "9115daca-a7de-427c-fe7a-a907086bd534"
      },
      "execution_count": null,
      "outputs": [
        {
          "output_type": "stream",
          "name": "stdout",
          "text": [
            "{'no': 1, 'Spinbeam_temp': 256, 'Roller1_speed': 3500, 'Roller2_speed': 4039, 'Roller2_Temp': 95, 'Draw_ratio': 1.154, 'F/R_speed': 4000, 'Tenacity': 2.75, 'Elongation': 59.2}\n"
          ]
        }
      ]
    },
    {
      "cell_type": "code",
      "source": [
        "l = []\n",
        "for idx,row in df.iterrows():\n",
        "  same = True\n",
        "  for a in df.columns.values:\n",
        "    if c[a] != row[a]:\n",
        "      same=False\n",
        "      break\n",
        "  if same == False:\n",
        "    mean = sum/cnt\n",
        "    for i in range(cnt):\n",
        "      if abs(df[\"Tenacity\"].iloc[idx-i]-mean) >= 0.4:\n",
        "        l.push\n",
        "    cnt = 1\n",
        "    sum = row[\"Tenacity\"]\n",
        "  else :\n",
        "    sum = sum + row[\"Tenacity\"]\n",
        "    cnt= cnt+1\n",
        "\n"
      ],
      "metadata": {
        "id": "WL8NfO6pD9de"
      },
      "execution_count": null,
      "outputs": []
    }
  ]
}